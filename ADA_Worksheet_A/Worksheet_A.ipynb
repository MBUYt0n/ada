{
 "cells": [
  {
   "cell_type": "markdown",
   "metadata": {},
   "source": [
    "# PES University, Bangalore\n",
    "Established under Karnataka Act No. 16 of 2013"
   ]
  },
  {
   "cell_type": "markdown",
   "metadata": {},
   "source": [
    "## UE22AM343AB4 - Advanced Data Analytics \n",
    "\n",
    "Designed by Sathwik HJ"
   ]
  },
  {
   "cell_type": "markdown",
   "metadata": {},
   "source": [
    "### Student Details\n",
    "- Name : **Student Name**\n",
    "- SRN : **SRN**"
   ]
  },
  {
   "cell_type": "markdown",
   "metadata": {},
   "source": [
    "## Data cleaning and Preprocessing\n"
   ]
  },
  {
   "cell_type": "markdown",
   "metadata": {},
   "source": [
    "### Context\n",
    "As an analyst at Torque Titans, you’ve been given an exciting opportunity to work with a comprehensive dataset that spans the motorcycle market from 1894 to 2022. Your primary responsibility is to clean and preprocess this data to ensure its quality and readiness for analysis. By doing so, you’ll enable your team to extract valuable insights that will drive Torque Titans forward in a competitive market. This critical task will set the foundation for innovative, data-driven strategies that will fuel the company’s success in the industry.\n",
    "\n",
    "#### Let’s dive in!"
   ]
  },
  {
   "cell_type": "markdown",
   "metadata": {},
   "source": [
    "### About the dataset\n",
    "- \"all_bikes.csv\"\n",
    "- Each record of the dataset represents a bike model which contains whereas details about it."
   ]
  },
  {
   "cell_type": "code",
   "execution_count": null,
   "metadata": {},
   "outputs": [],
   "source": [
    "%pip install matplotlib pandas\n",
    "%pip install numpy\n",
    "%pip install scikit-learn"
   ]
  },
  {
   "cell_type": "code",
   "execution_count": 1,
   "metadata": {},
   "outputs": [
    {
     "name": "stderr",
     "output_type": "stream",
     "text": [
      "/tmp/ipykernel_6615/639087774.py:6: DtypeWarning: Columns (80,81) have mixed types. Specify dtype option on import or set low_memory=False.\n",
      "  df = pd.read_csv('all_bikes.csv')  # Replace with your dataset path\n"
     ]
    }
   ],
   "source": [
    "# Step 1: Import the required modules\n",
    "import pandas as pd\n",
    "import numpy as np\n",
    "\n",
    "# Load the dataset\n",
    "df = pd.read_csv('all_bikes.csv')  # Replace with your dataset path"
   ]
  },
  {
   "cell_type": "markdown",
   "metadata": {},
   "source": [
    "## Note: \n",
    "Give reasons/explanations/reasoning for each question\n"
   ]
  },
  {
   "cell_type": "markdown",
   "metadata": {},
   "source": [
    "**Step 1: Understanding the Dataset Start by closely examining the dataset to understand its structure.** \n",
    "Are there any discrepancies or inconsistencies? Are there columns that may not provide valuable insights? Begin by importing the required modules, such as Pandas, and let’s gather some initial insights from the data:\n",
    "\n",
    "● Analyze the number of columns, data types, and the number of values in each column.\n",
    "\n",
    "● Calculate basic statistics like averages, minimums, and maximums for numerical data."
   ]
  },
  {
   "cell_type": "code",
   "execution_count": 8,
   "metadata": {},
   "outputs": [
    {
     "data": {
      "text/plain": [
       "Index(['Belt teeth', 'Belt width', 'Pulley teeth'], dtype='object')"
      ]
     },
     "execution_count": 8,
     "metadata": {},
     "output_type": "execute_result"
    }
   ],
   "source": [
    "#Pandas Describe\n",
    "# print(df.describe())\n",
    "\n",
    "df.columns[79:81]"
   ]
  },
  {
   "cell_type": "markdown",
   "metadata": {},
   "source": [
    "**Step 2: Handling Missing Values Next**, let’s address missing values in the dataset. For numeric columns, we’ll fill the missing values with the column’s average. For categorical or other columns, choose an appropriate strategy based on what makes sense for the data—this could be filled with a placeholder like \"Unknown\" or the most frequent value."
   ]
  },
  {
   "cell_type": "code",
   "execution_count": null,
   "metadata": {},
   "outputs": [],
   "source": []
  },
  {
   "cell_type": "markdown",
   "metadata": {},
   "source": [
    "**Step 3: Eliminating Redundancies Take a look at the 0-100 column—do we really need speed in two different units?** Let’s clean up this redundancy. Be mindful, though; this might not be the only column with unnecessary duplication."
   ]
  },
  {
   "cell_type": "code",
   "execution_count": null,
   "metadata": {},
   "outputs": [],
   "source": []
  },
  {
   "cell_type": "markdown",
   "metadata": {},
   "source": [
    "**Step 4: Duplicates Now**, check for any duplicate records in the dataset. If duplicates are found, remove them to avoid any skewed analysis."
   ]
  },
  {
   "cell_type": "code",
   "execution_count": null,
   "metadata": {},
   "outputs": [],
   "source": []
  },
  {
   "cell_type": "markdown",
   "metadata": {},
   "source": [
    "**Step 5: Engine Details Column Examine the Engine Details column carefully.** Will this column be useful in providing insights, or is it redundant or irrelevant to the analysis? Decide whether to keep or drop it."
   ]
  },
  {
   "cell_type": "code",
   "execution_count": null,
   "metadata": {},
   "outputs": [],
   "source": []
  },
  {
   "cell_type": "markdown",
   "metadata": {},
   "source": [
    "**Step 6: Preparing for Future Text Processing Torque Titans might explore text processing on some of the data in the future**, so let’s be proactive! We can tokenize the strings in the relevant columns to ensure we’re ready for text analysis down the line. This involves splitting text into individual tokens (words) and storing them for future use.\n",
    "\n",
    "There are a lot of tokeniser available, note: Torque Titans are potentially looking to integrate with openai."
   ]
  },
  {
   "cell_type": "code",
   "execution_count": null,
   "metadata": {},
   "outputs": [],
   "source": []
  },
  {
   "cell_type": "markdown",
   "metadata": {},
   "source": [
    "**Step 7: Designing a Rating System Here comes the fun part—Torque Titans wants to roll out a rating system for their motorcycles!**\n",
    "You’ll take into account the following factors:\n",
    "\n",
    "● Speed\n",
    "\n",
    "● Engine type (feel free to assign weight based on your opinion\n",
    "of which engines are superior)\n",
    "\n",
    "● 0-100 acceleration\n",
    "\n",
    "● Power\n",
    "\n",
    "● Torque\n",
    "\n",
    "● Weight\n",
    "\n",
    "● RPM (you might want to cross-reference with the torque column).\n",
    "\n",
    "Using these factors, create a new column called Rating, which is scaled from 1 to 4 (no decimals). You don’t need to give all columns equal weight—experiment to find the ideal balance for what you think makes a great motorcycle!\n",
    "\n",
    "Make sure to normalise the values before considering them for the rating column, as they can add a bias to the calculations, Lets try using MaxAbsScaler and try keep the values between [-1,1]"
   ]
  },
  {
   "cell_type": "code",
   "execution_count": null,
   "metadata": {},
   "outputs": [],
   "source": []
  },
  {
   "cell_type": "markdown",
   "metadata": {},
   "source": [
    "**By completing these steps, you'll not only ensure that the dataset is ready for insightful analysis but also set the stage for exciting innovations at Torque Titans. Let’s get started and have fun while we shape the future of motorcycles!**"
   ]
  }
 ],
 "metadata": {
  "kernelspec": {
   "display_name": "Python 3",
   "language": "python",
   "name": "python3"
  },
  "language_info": {
   "codemirror_mode": {
    "name": "ipython",
    "version": 3
   },
   "file_extension": ".py",
   "mimetype": "text/x-python",
   "name": "python",
   "nbconvert_exporter": "python",
   "pygments_lexer": "ipython3",
   "version": "3.11.4"
  }
 },
 "nbformat": 4,
 "nbformat_minor": 2
}
