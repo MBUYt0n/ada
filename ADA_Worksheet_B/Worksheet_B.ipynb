{
 "cells": [
  {
   "cell_type": "markdown",
   "metadata": {},
   "source": [
    "# PES University, Bangalore\n",
    "Established under Karnataka Act No. 16 of 2013\n",
    "\n",
    "## UE22AM343AB4 - Advanced Data Analytics \n",
    "\n",
    "Designed by Nischal H S"
   ]
  },
  {
   "cell_type": "markdown",
   "metadata": {},
   "source": [
    "### Student Details\n",
    "- Name : **Student Name**\n",
    "- SRN : **SRN**"
   ]
  },
  {
   "cell_type": "markdown",
   "metadata": {},
   "source": [
    "# ADA Worksheet Part B\n",
    "\n",
    "## Adult Census Income Cleaning and Analysis\n",
    "\n",
    "### Introduction\n",
    "\n",
    "As a data scientist intern at the U.S. Census Bureau, you've been assigned to clean and analyze the Adult Census Income dataset. Your task is to prepare the data for a machine learning model that will predict whether an individual's annual income exceeds $50,000. This analysis will inform government policies on education, employment, and economic development.\n",
    "The dataset contains various demographic and socioeconomic factors, but it requires careful preprocessing to ensure accurate results. Your work will involve handling missing data, encoding categorical variables, and performing exploratory data analysis.\n",
    "\n",
    "First, let's import some of the necessary libraries and load the data."
   ]
  },
  {
   "cell_type": "code",
   "execution_count": null,
   "metadata": {},
   "outputs": [],
   "source": [
    "# might make it easier to install the packages directly to ipynb kernel for this to work, so please run this\n",
    "%pip install pandas numpy matplotlib seaborn scikit-learn scipy imbalanced-learn"
   ]
  },
  {
   "cell_type": "code",
   "execution_count": null,
   "metadata": {},
   "outputs": [],
   "source": [
    "# Note: This assignment might need you to look up syntax, parameters, functions a lot for some libraries, so I am linking the documentation. Most of these should have a search bar to find what you're looking for.\n",
    "# pandas: https://pandas.pydata.org/docs/user_guide/index.html\n",
    "# numpy: https://numpy.org/doc/stable/user/index.html\n",
    "# matplotlib: https://matplotlib.org/stable/contents.html\n",
    "# seaborn: https://seaborn.pydata.org/tutorial.html\n",
    "\n",
    "\n",
    "\n",
    "\n",
    "import pandas as pd\n",
    "import numpy as np\n",
    "import matplotlib.pyplot as plt\n",
    "import seaborn as sns\n",
    "\n",
    "# Load the dataset\n",
    "url = \"https://archive.ics.uci.edu/ml/machine-learning-databases/adult/adult.data\"\n",
    "column_names = [\"age\", \"workclass\", \"fnlwgt\", \"education\", \"education-num\", \"marital-status\", \"occupation\", \"relationship\", \"race\", \"sex\", \"capital-gain\", \"capital-loss\", \"hours-per-week\", \"native-country\", \"income\"]\n",
    "\n",
    "# TODO: Load the data into a pandas DataFrame named 'df'\n",
    "# Hint: Use pd.read_csv() with the url and column_names\n",
    "\n",
    "\n",
    "# Display the first few rows and basic information about the dataset\n",
    "print(df.head())\n",
    "print(df.info())"
   ]
  },
  {
   "cell_type": "markdown",
   "metadata": {},
   "source": [
    "## Question 1: Missing Values\n",
    "\n",
    "Examine the dataset for missing values. In this dataset, missing values are represented as \"?\".\n",
    "\n",
    "a) How many missing values are there in each column?\n",
    "\n",
    "b) What percentage of the dataset is missing?"
   ]
  },
  {
   "cell_type": "code",
   "execution_count": null,
   "metadata": {},
   "outputs": [],
   "source": [
    "# TODO: Count the number of missing values in each column\n",
    "# Hint: Use df.isin() with the right parameter\n",
    "\n",
    "# TODO: Calculate the percentage of missing values in the entire dataset"
   ]
  },
  {
   "cell_type": "markdown",
   "metadata": {},
   "source": [
    "## Question 2: Handling Missing Values\n",
    "\n",
    "Choose an appropriate strategy to handle missing values in the 'workclass' and 'occupation' columns.\n",
    "\n",
    "a) Explain your chosen strategy and why you think it's appropriate.\n",
    "\n",
    "b) Implement your strategy."
   ]
  },
  {
   "cell_type": "code",
   "execution_count": null,
   "metadata": {},
   "outputs": [],
   "source": [
    "# TODO: Implement your chosen strategy for handling missing values\n",
    "# This might involve imputation, removal, or other techniques. Think carefully about the type of missingness and how it should be handled\n",
    "\n",
    "def handle_missing_workclass(df):\n",
    "    \"\"\"\n",
    "    Handle missing values in the 'workclass' column.\n",
    "    \"\"\"\n",
    "    # TODO: Implement your strategy here\n",
    "    pass\n",
    "\n",
    "def handle_missing_occupation(df):\n",
    "    \"\"\"\n",
    "    Handle missing values in the 'occupation' column.\n",
    "    \"\"\"\n",
    "    # TODO: Implement your strategy here\n",
    "    pass\n",
    "\n",
    "# Call the functions to update the DataFrame\n",
    "df = handle_missing_workclass(df)\n",
    "df = handle_missing_occupation(df)\n",
    "\n",
    "# Hint: You could use the mode() method to impute missing values\n",
    "# Can you go one step ahead and consider the other columns before deciding what value to impute in a row?"
   ]
  },
  {
   "cell_type": "markdown",
   "metadata": {},
   "source": [
    "## Question 3: Categorical Variables\n",
    "\n",
    "Identify all categorical variables in the dataset.\n",
    "\n",
    "a) List the categorical variables and their unique values.\n",
    "\n",
    "b) Are there any categorical variables that have an unusually high number of categories? How might you handle this?"
   ]
  },
  {
   "cell_type": "code",
   "execution_count": null,
   "metadata": {},
   "outputs": [],
   "source": [
    "# TODO: Identify and list categorical variables\n",
    "# Hint: Use the select_dtypes() method to identify columns with object dtype\n",
    "\n",
    "# TODO: Display unique values for each categorical variable\n",
    "# Hint: You can use the unique() method to get the unique values for each column"
   ]
  },
  {
   "cell_type": "markdown",
   "metadata": {},
   "source": [
    "## Question 4: Encoding Categorical Variables\n",
    "\n",
    "Choose appropriate encoding techniques for the categorical variables. You may use different techniques for different variables based on their characteristics.\n",
    "\n",
    "a) Explain your choice of encoding technique for each categorical variable.\n",
    "\n",
    "b) Implement the encoding."
   ]
  },
  {
   "cell_type": "code",
   "execution_count": null,
   "metadata": {},
   "outputs": [],
   "source": [
    "# TODO: Implement encoding for categorical variables\n",
    "# This might involve one-hot encoding, label encoding, or other techniques\n",
    "\n",
    "def encode_binary_categorical(df, column):\n",
    "    \"\"\"\n",
    "    Encode a binary categorical variable using label encoding.\n",
    "    \"\"\"\n",
    "    # Hint: Use the LabelEncoder class from sklearn.preprocessing\n",
    "    pass\n",
    "\n",
    "def encode_multi_categorical(df, columns):\n",
    "    \"\"\"\n",
    "    Encode multi-class categorical variables using one-hot encoding.\n",
    "    \"\"\"\n",
    "    # Hint: Use the OneHotEncoder class from sklearn.preprocessing\n",
    "    pass"
   ]
  },
  {
   "cell_type": "markdown",
   "metadata": {},
   "source": [
    "## Question 5: Numerical Variables\n",
    "\n",
    "Analyze the numerical variables in the dataset.\n",
    "\n",
    "a) Create histograms for each numerical variable.\n",
    "\n",
    "b) Identify any variables that appear to be skewed. How might you handle this skewness?"
   ]
  },
  {
   "cell_type": "code",
   "execution_count": null,
   "metadata": {},
   "outputs": [],
   "source": [
    "# TODO: Create histograms for numerical variables\n",
    "# Hint: Use the histplot() function from the seaborn library\n",
    "\n",
    "# TODO: Identify skewed variables and suggest transformations\n",
    "# Hint: You can use the skew() method to identify skewed variables\n",
    "# For transformations, you could consider using the np.log1p() function\n",
    "# Verify the effectiveness of your transformation\n",
    "\n",
    "def transform_skewed_variables(df, skewed_vars):\n",
    "    \"\"\"\n",
    "    Apply transformation to skewed numerical variables.\n",
    "    \"\"\"\n",
    "    pass"
   ]
  },
  {
   "cell_type": "markdown",
   "metadata": {},
   "source": [
    "## Question 6: Outlier Detection\n",
    "\n",
    "Implement a method to detect outliers in the 'capital-gain' and 'capital-loss' columns.\n",
    "\n",
    "a) What method did you choose and why?\n",
    "b) How many outliers did you detect?\n",
    "c) Propose a strategy for handling these outliers."
   ]
  },
  {
   "cell_type": "code",
   "execution_count": null,
   "metadata": {},
   "outputs": [],
   "source": [
    "# TODO: Implement outlier detection for 'capital-gain' and 'capital-loss'\n",
    "# Hint: Use the zscore() function from the scipy.stats module to detect outliers\n",
    "\n",
    "# TODO: Visualize outliers\n",
    "# Hint: A certain kind of plot is usually used to visualise outliers. Use the seaborn library\n",
    "\n",
    "def handle_outliers(df, columns, quantile=0.95):\n",
    "    \"\"\"\n",
    "    Handle outliers using winsorization.\n",
    "    \"\"\"\n",
    "    # Hint: Use the np.where() function to apply the winsorization\n",
    "    pass"
   ]
  },
  {
   "cell_type": "markdown",
   "metadata": {},
   "source": [
    "## Question 7: Correlation Analysis\n",
    "\n",
    "Perform a correlation analysis on the numerical variables.\n",
    "\n",
    "a) Create a heatmap of the correlation matrix.\n",
    "\n",
    "b) Identify any highly correlated pairs of features. How might this impact a machine learning model?"
   ]
  },
  {
   "cell_type": "code",
   "execution_count": null,
   "metadata": {},
   "outputs": [],
   "source": [
    "# TODO: Compute correlation matrix\n",
    "# Hint: Use the corr() method on the DataFrame\n",
    "\n",
    "# TODO: Create a heatmap\n",
    "# Hint: Use the heatmap() function from the seaborn library\n",
    "\n",
    "# TODO: Identify and discuss highly correlated pairs\n",
    "# Hint: You can use the where() and stack() methods to identify the highly correlated pairs"
   ]
  },
  {
   "cell_type": "markdown",
   "metadata": {},
   "source": [
    "## Question 8: Class Imbalance\n",
    "\n",
    "Investigate whether there is a class imbalance in the target variable ('income').\n",
    "\n",
    "a) Calculate the proportion of each class in the target variable."
   ]
  },
  {
   "cell_type": "code",
   "execution_count": null,
   "metadata": {},
   "outputs": [],
   "source": [
    "# TODO: Calculate and display class proportions"
   ]
  },
  {
   "cell_type": "markdown",
   "metadata": {},
   "source": [
    "## Question 9: Data Scaling\n",
    "\n",
    "Implement feature scaling on the numerical variables.\n",
    "\n",
    "a) Choose a scaling method (e.g., StandardScaler, MinMaxScaler) and explain your choice.\n",
    "\n",
    "b) Apply the scaling to the numerical features."
   ]
  },
  {
   "cell_type": "code",
   "execution_count": null,
   "metadata": {},
   "outputs": [],
   "source": [
    "# TODO: Choose and implement a scaling method\n",
    "# Hint: The Scaler classes can be found in sklearn.preprocessing module"
   ]
  },
  {
   "cell_type": "markdown",
   "metadata": {},
   "source": [
    "## Question 10: Exploratory Data Analysis\n",
    "\n",
    "Perform exploratory data analysis to gain insights into the relationship between features and the target variable.\n",
    "\n",
    "a) Create at least three different types of plots that reveal interesting patterns or relationships in the data. For instance, scatter plot, box plot, histogram and so on.\n",
    "\n",
    "b) Explain your findings from each plot."
   ]
  },
  {
   "cell_type": "code",
   "execution_count": null,
   "metadata": {},
   "outputs": [],
   "source": [
    "# TODO: Create at least three informative plots\n",
    "# Example:\n",
    "plt.figure(figsize=(12, 6))\n",
    "sns.scatterplot(data=df, x='age', y='hours-per-week', hue='income')\n",
    "plt.title('Scatter Plot: Age vs. Hours per Week by Income')\n",
    "plt.show()\n",
    "\n",
    "# Create 2 more such plots of your own\n",
    "# TODO: Explain insights gained from each plot"
   ]
  },
  {
   "cell_type": "code",
   "execution_count": null,
   "metadata": {},
   "outputs": [],
   "source": []
  }
 ],
 "metadata": {
  "kernelspec": {
   "display_name": "Python 3",
   "language": "python",
   "name": "python3"
  },
  "language_info": {
   "codemirror_mode": {
    "name": "ipython",
    "version": 3
   },
   "file_extension": ".py",
   "mimetype": "text/x-python",
   "name": "python",
   "nbconvert_exporter": "python",
   "pygments_lexer": "ipython3",
   "version": "3.10.6"
  }
 },
 "nbformat": 4,
 "nbformat_minor": 2
}
