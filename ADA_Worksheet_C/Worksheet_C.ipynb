{
 "cells": [
  {
   "cell_type": "markdown",
   "metadata": {},
   "source": [
    "# PES University, Bangalore\n",
    "Established under Karnataka Act No. 16 of 2013"
   ]
  },
  {
   "cell_type": "markdown",
   "metadata": {},
   "source": [
    "## UE22AM343AB4 - Advanced Data Analytics \n",
    "\n",
    "Designed by Sathwik HJ"
   ]
  },
  {
   "cell_type": "markdown",
   "metadata": {},
   "source": [
    "### Student Details\n",
    "- Name : **Student Name**\n",
    "- SRN : **SRN**"
   ]
  },
  {
   "cell_type": "markdown",
   "metadata": {},
   "source": [
    "## Market Basket Analysis\n",
    "    + Apriori Algorithm\n",
    "    + Association Rule mining"
   ]
  },
  {
   "cell_type": "markdown",
   "metadata": {},
   "source": [
    "### Prerequisites\n",
    "- Revise the following concepts\n",
    "    - Apriori Algorithm\n",
    "        - Suport\n",
    "        - Confidence\n",
    "        - Lift\n",
    "- Install the following software\n",
    "    - pandas\n",
    "    - apyori "
   ]
  },
  {
   "cell_type": "markdown",
   "metadata": {},
   "source": [
    "### Problems\n",
    "\n",
    "1. Problem 1: Preprocessing\n",
    "2. Problem 2: Item set detection and analaysis \n",
    "3. Problem 3: Association rule minning \n",
    "- Note: Make sure to include justifications for each of your approaches and also provide a brief observations of the results obtained"
   ]
  },
  {
   "cell_type": "markdown",
   "metadata": {},
   "source": [
    "### Context\n",
    "Welcome to \"Shocking Electronics\", a budding Electronic Store. As a data analyst working with \"Shocking Electronics\" , your mission is to uncover meaningful patterns within customer transactions to enhance their shopping experience and help us compete with our competitor \"Circuit Circus Electronics\"."
   ]
  },
  {
   "cell_type": "markdown",
   "metadata": {},
   "source": [
    "### About the dataset\n",
    "- \"Electronics.csv\"\n",
    "- Each record of the dataset represents a transaction made by a customer at \"Shocking Electronics store\".\n",
    "- The transaction contains the items bought in that transaction"
   ]
  },
  {
   "cell_type": "code",
   "execution_count": null,
   "metadata": {},
   "outputs": [],
   "source": [
    "# Install apyori package\n",
    "# Use % or ! based on the environment to install\n",
    "%pip install apyori \n",
    "%pip install mlxtend\n",
    "import apyori"
   ]
  },
  {
   "cell_type": "markdown",
   "metadata": {},
   "source": [
    "apyori documentation: https://pypi.org/project/apyori/ (Refer API Usage)"
   ]
  },
  {
   "cell_type": "code",
   "execution_count": 3,
   "metadata": {},
   "outputs": [],
   "source": [
    "import pandas as pd\n",
    "from apyori import apriori"
   ]
  },
  {
   "cell_type": "markdown",
   "metadata": {},
   "source": [
    "### Problem 1 - Preprocessing\n",
    "**Load the transactions data** from the provided csv file. **Transform the data** to a suitable format (Hint: **List of lists**[internal list contains the items of the transaction]). **Make sure to clean the data** (Hint: NA values). \n"
   ]
  },
  {
   "cell_type": "markdown",
   "metadata": {},
   "source": [
    "### Problem 2 - Item sets\n",
    "1. Print out the frequent item sets along with their support values also display the count of item sets.(**min_support=0.08**)\n",
    "2. \"Shocking Electronics\" wants to replenish its stocks, help find the top 5 most popular(higher buying frequency) items/item_sets to replenish. **Explain and justify** the process followed to come to the conclusion.\n"
   ]
  },
  {
   "cell_type": "markdown",
   "metadata": {},
   "source": [
    "### Problem 3 - Association Rules\n",
    "+ Items on the left side of the association rule are called : **Antecedent items** and the right side of the association rule are called : **Consequent Items**.\n",
    "1. Print out the association rules along with their confidence and lift. (Analyse the output structure of apriori())\n",
    "    + **(min_support=0.01, min_confidence = 0.08, min_lift=1.7, min_length=3)**\n",
    "2. As the festive season is approaching, \"Shocking Electronics\" is considering to provide discounts and offers on some of their products. Help them identify the top 5 popular **pairs/sets** of items/item_sets bought, considering probability of consequent item being purchased when antecedent item is bought.\n",
    "3. Also help them identify the top 5 popular **pairs/sets** of items/item_sets bought together, considering the popularity of consequent and antecedent items.\n",
    "+ (Consequent and antecedent items together form the **pairs/sets** specified in the question)\n"
   ]
  },
  {
   "cell_type": "markdown",
   "metadata": {},
   "source": [
    "### Problem 4 - Theory\n",
    "Explain **Rule**, **Lift** and **Support**, taking examples from the results obtained from **your analysis**\n",
    "\n"
   ]
  }
 ],
 "metadata": {
  "kernelspec": {
   "display_name": "Python 3",
   "language": "python",
   "name": "python3"
  },
  "language_info": {
   "codemirror_mode": {
    "name": "ipython",
    "version": 3
   },
   "file_extension": ".py",
   "mimetype": "text/x-python",
   "name": "python",
   "nbconvert_exporter": "python",
   "pygments_lexer": "ipython3",
   "version": "3.10.1"
  },
  "orig_nbformat": 4
 },
 "nbformat": 4,
 "nbformat_minor": 2
}
